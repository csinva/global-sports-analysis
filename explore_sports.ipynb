{
 "cells": [
  {
   "cell_type": "code",
   "execution_count": 1,
   "metadata": {},
   "outputs": [],
   "source": [
    "%load_ext autoreload\n",
    "%autoreload 2\n",
    "\n",
    "import pandas as pd\n",
    "import numpy as np\n",
    "import load\n",
    "\n",
    "cred='rgb(234, 51, 86)'\n",
    "cblue = 'rgb(57, 138, 242)'"
   ]
  },
  {
   "cell_type": "markdown",
   "metadata": {},
   "source": [
    "# load data"
   ]
  },
  {
   "cell_type": "code",
   "execution_count": 2,
   "metadata": {},
   "outputs": [
    {
     "data": {
      "text/html": [
       "<div>\n",
       "<style scoped>\n",
       "    .dataframe tbody tr th:only-of-type {\n",
       "        vertical-align: middle;\n",
       "    }\n",
       "\n",
       "    .dataframe tbody tr th {\n",
       "        vertical-align: top;\n",
       "    }\n",
       "\n",
       "    .dataframe thead th {\n",
       "        text-align: right;\n",
       "    }\n",
       "</style>\n",
       "<table border=\"1\" class=\"dataframe\">\n",
       "  <thead>\n",
       "    <tr style=\"text-align: right;\">\n",
       "      <th></th>\n",
       "      <th>Country</th>\n",
       "      <th>GDP</th>\n",
       "      <th>Rank_soccer</th>\n",
       "      <th>Rank_cricket</th>\n",
       "      <th>GDP_per_capita</th>\n",
       "    </tr>\n",
       "  </thead>\n",
       "  <tbody>\n",
       "    <tr>\n",
       "      <th>0</th>\n",
       "      <td>United States</td>\n",
       "      <td>1.948539e+13</td>\n",
       "      <td>30.0</td>\n",
       "      <td>NaN</td>\n",
       "      <td>59927.929834</td>\n",
       "    </tr>\n",
       "    <tr>\n",
       "      <th>1</th>\n",
       "      <td>China</td>\n",
       "      <td>1.214349e+13</td>\n",
       "      <td>73.0</td>\n",
       "      <td>NaN</td>\n",
       "      <td>8759.041578</td>\n",
       "    </tr>\n",
       "    <tr>\n",
       "      <th>2</th>\n",
       "      <td>Japan</td>\n",
       "      <td>4.859951e+12</td>\n",
       "      <td>29.0</td>\n",
       "      <td>NaN</td>\n",
       "      <td>38331.979398</td>\n",
       "    </tr>\n",
       "    <tr>\n",
       "      <th>3</th>\n",
       "      <td>Germany</td>\n",
       "      <td>3.693204e+12</td>\n",
       "      <td>11.0</td>\n",
       "      <td>NaN</td>\n",
       "      <td>44681.082581</td>\n",
       "    </tr>\n",
       "    <tr>\n",
       "      <th>4</th>\n",
       "      <td>India</td>\n",
       "      <td>2.652551e+12</td>\n",
       "      <td>101.0</td>\n",
       "      <td>2.0</td>\n",
       "      <td>1981.499045</td>\n",
       "    </tr>\n",
       "  </tbody>\n",
       "</table>\n",
       "</div>"
      ],
      "text/plain": [
       "         Country           GDP  Rank_soccer  Rank_cricket  GDP_per_capita\n",
       "0  United States  1.948539e+13         30.0           NaN    59927.929834\n",
       "1          China  1.214349e+13         73.0           NaN     8759.041578\n",
       "2          Japan  4.859951e+12         29.0           NaN    38331.979398\n",
       "3        Germany  3.693204e+12         11.0           NaN    44681.082581\n",
       "4          India  2.652551e+12        101.0           2.0     1981.499045"
      ]
     },
     "execution_count": 2,
     "metadata": {},
     "output_type": "execute_result"
    }
   ],
   "source": [
    "gdp = load.load_gdp()\n",
    "gdp_18 = gdp[['Country', 'GDP']].sort_values(by='GDP', ascending=False)\n",
    "gdp_cap = load.load_gdp_per_capita()[['Country', 'GDP_per_capita']].sort_values(by='GDP_per_capita', ascending=False)\n",
    "rankings_soccer = load.load_rankings_soccer()\n",
    "rankings_cricket = load.load_rankings_cricket()\n",
    "combined = pd.merge(gdp_18, rankings_soccer, on='Country', how='outer').merge(rankings_cricket, on='Country', how='outer')\n",
    "combined = pd.merge(combined, gdp_cap, on='Country', how='outer')\n",
    "combined.head()"
   ]
  },
  {
   "cell_type": "markdown",
   "metadata": {},
   "source": [
    "# plotly plots"
   ]
  },
  {
   "cell_type": "code",
   "execution_count": 3,
   "metadata": {},
   "outputs": [],
   "source": [
    "import plotly.graph_objs as go\n",
    "from plotly.offline import plot"
   ]
  },
  {
   "cell_type": "code",
   "execution_count": 18,
   "metadata": {},
   "outputs": [
    {
     "data": {
      "text/plain": [
       "'file:///accounts/projects/vision/chandan/sports-analysis/update_dropdown_test.html'"
      ]
     },
     "execution_count": 18,
     "metadata": {},
     "output_type": "execute_result"
    }
   ],
   "source": [
    "df = combined\n",
    "\n",
    "soccer_vs_gdp = go.Scatter(\n",
    "                            x=list(df.GDP),\n",
    "                            y=list(df.Rank_soccer.rank(pct=True, ascending=False).round(2) * 100),\n",
    "                            name='Soccer',\n",
    "                            mode='markers',   \n",
    "                            line=dict(color=cblue), #'#33CFA5'),\n",
    "                            text=df.Country,\n",
    "                            visible=True\n",
    "                          )\n",
    "\n",
    "cricket_vs_gdp = go.Scatter(x=list(df.GDP),\n",
    "                            y=list(df.Rank_cricket.rank(pct=True, ascending=False).round(2) * 100),\n",
    "                            name='Cricket',\n",
    "                            visible=True,\n",
    "                            mode='markers',\n",
    "                            line=dict(color=cred),\n",
    "                            text=df.Country\n",
    "                           )\n",
    "\n",
    "soccer_vs_gdp_cap = go.Scatter(\n",
    "                            x=list(df.GDP_per_capita),\n",
    "                            y=list(df.Rank_soccer.rank(pct=True, ascending=False).round(2) * 100),\n",
    "                            name='Soccer',\n",
    "                            mode='markers',   \n",
    "                            line=dict(color=cblue), \n",
    "                            text=df.Country,\n",
    "                            visible=False\n",
    "                          )\n",
    "\n",
    "cricket_vs_gdp_cap = go.Scatter(x=list(df.GDP_per_capita),\n",
    "                            y=list(df.Rank_cricket.rank(pct=True, ascending=False).round(2) * 100),\n",
    "                            name='Cricket',\n",
    "                            visible=False,\n",
    "                            mode='markers',\n",
    "                            line=dict(color=cred),\n",
    "                            text=df.Country\n",
    "                           )\n",
    "\n",
    "\n",
    "data = [soccer_vs_gdp, cricket_vs_gdp, soccer_vs_gdp_cap, cricket_vs_gdp_cap]\n",
    "\n",
    "updatemenus = list([\n",
    "    dict(active=0,\n",
    "         buttons=list([   \n",
    "            dict(label = 'GDP',\n",
    "                 method = 'update',\n",
    "                 args = [{'visible': [True, True, False, False]}]\n",
    "                ),\n",
    "            dict(label = 'GDP per capita',\n",
    "                 method = 'update',\n",
    "                 args = [{'visible': [False, False, True, True]}])\n",
    "        ]),\n",
    "        x=0.5, \n",
    "        y=-0.06,\n",
    "        xanchor='center',\n",
    "        direction='up',\n",
    "        showactive=False,\n",
    "        bgcolor='rgb(57, 138, 242, 40)',\n",
    "        font={'color': 'black'}\n",
    "    )\n",
    "])\n",
    "\n",
    "layout = dict(title='World sports rankings', \n",
    "              xaxis=dict(\n",
    "                    type='log',\n",
    "                    autorange=True\n",
    "              ),\n",
    "              yaxis=dict(\n",
    "                  title=\"Percentile in world rankings\",\n",
    "              ),\n",
    "              showlegend=True,\n",
    "              updatemenus=updatemenus,\n",
    "              template='plotly_dark'\n",
    "             )\n",
    "\n",
    "fig = dict(data=data, layout=layout)\n",
    "plot(fig, filename='update_dropdown_test.html')"
   ]
  }
 ],
 "metadata": {
  "kernelspec": {
   "display_name": "Python 3",
   "language": "python",
   "name": "python3"
  },
  "language_info": {
   "codemirror_mode": {
    "name": "ipython",
    "version": 3
   },
   "file_extension": ".py",
   "mimetype": "text/x-python",
   "name": "python",
   "nbconvert_exporter": "python",
   "pygments_lexer": "ipython3",
   "version": "3.7.0"
  }
 },
 "nbformat": 4,
 "nbformat_minor": 2
}
